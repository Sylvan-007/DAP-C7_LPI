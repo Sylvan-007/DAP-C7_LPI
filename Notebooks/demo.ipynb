{
 "cells": [
  {
   "cell_type": "code",
   "execution_count": 1,
   "metadata": {},
   "outputs": [],
   "source": [
    "import pyodbc\n",
    "from dotenv import dotenv_values \n",
    "import pandas as pd\n",
    "import warnings\n",
    "\n",
    "warnings.filterwarnings('ignore')"
   ]
  },
  {
   "cell_type": "code",
   "execution_count": 2,
   "metadata": {},
   "outputs": [],
   "source": [
    "environment_variables = dotenv_values('.env')"
   ]
  },
  {
   "cell_type": "code",
   "execution_count": 3,
   "metadata": {},
   "outputs": [],
   "source": [
    "database = environment_variables.get(\"DATABASE\")\n",
    "server = environment_variables.get(\"DATABASE\")\n",
    "username = environment_variables.get(\"USERNAME\")\n",
    "password = environment_variables.get(\"PASSWORD\")\n",
    "\n",
    "connection_string = f\"DRIVER={{SQL SERVER}};SERVER={server};DATABASE={database};UID{username};PWD={password}\""
   ]
  },
  {
   "cell_type": "code",
   "execution_count": 4,
   "metadata": {},
   "outputs": [
    {
     "name": "stdout",
     "output_type": "stream",
     "text": [
      "Connected to the database!\n"
     ]
    }
   ],
   "source": [
    "import pyodbc    \n",
    "from dotenv import dotenv_values   \n",
    "import pandas as pd\n",
    "import warnings \n",
    "warnings.filterwarnings('ignore')\n",
    "\n",
    "# connection parameters\n",
    "server = 'dap-projects-database.database.windows.net'\n",
    "database = 'dapDB'\n",
    "username = 'LP1_learner'\n",
    "password = 'Hyp0th3s!$T3$t!ng'\n",
    "\n",
    "# Create connection string\n",
    "connection_string = f'DRIVER={{SQL Server}};SERVER={server};DATABASE={database};UID={username};PWD={password};MARS_Connection=yes;MinProtocolVersion=TLSv1.2;'\n",
    "\n",
    "connection = pyodbc.connect(connection_string)\n",
    "print(\"Connected to the database!\")"
   ]
  },
  {
   "cell_type": "code",
   "execution_count": 5,
   "metadata": {},
   "outputs": [
    {
     "data": {
      "text/html": [
       "<div>\n",
       "<style scoped>\n",
       "    .dataframe tbody tr th:only-of-type {\n",
       "        vertical-align: middle;\n",
       "    }\n",
       "\n",
       "    .dataframe tbody tr th {\n",
       "        vertical-align: top;\n",
       "    }\n",
       "\n",
       "    .dataframe thead th {\n",
       "        text-align: right;\n",
       "    }\n",
       "</style>\n",
       "<table border=\"1\" class=\"dataframe\">\n",
       "  <thead>\n",
       "    <tr style=\"text-align: right;\">\n",
       "      <th></th>\n",
       "      <th>TABLE_CATALOG</th>\n",
       "      <th>TABLE_SCHEMA</th>\n",
       "      <th>TABLE_NAME</th>\n",
       "      <th>TABLE_TYPE</th>\n",
       "    </tr>\n",
       "  </thead>\n",
       "  <tbody>\n",
       "    <tr>\n",
       "      <th>0</th>\n",
       "      <td>dapDB</td>\n",
       "      <td>dbo</td>\n",
       "      <td>LP1_startup_funding2021</td>\n",
       "      <td>BASE TABLE</td>\n",
       "    </tr>\n",
       "    <tr>\n",
       "      <th>1</th>\n",
       "      <td>dapDB</td>\n",
       "      <td>dbo</td>\n",
       "      <td>LP1_startup_funding2020</td>\n",
       "      <td>BASE TABLE</td>\n",
       "    </tr>\n",
       "  </tbody>\n",
       "</table>\n",
       "</div>"
      ],
      "text/plain": [
       "  TABLE_CATALOG TABLE_SCHEMA               TABLE_NAME  TABLE_TYPE\n",
       "0         dapDB          dbo  LP1_startup_funding2021  BASE TABLE\n",
       "1         dapDB          dbo  LP1_startup_funding2020  BASE TABLE"
      ]
     },
     "execution_count": 5,
     "metadata": {},
     "output_type": "execute_result"
    }
   ],
   "source": [
    "##what tables are in the DB\n",
    "query = \"\"\"\n",
    "        SELECT *\n",
    "        FROM INFORMATION_SCHEMA.TABLES \n",
    "        WHERE TABLE_TYPE='BASE TABLE';\n",
    "    \"\"\"\n",
    "datasets =pd.read_sql(query,connection)\n",
    "datasets"
   ]
  },
  {
   "cell_type": "code",
   "execution_count": 6,
   "metadata": {},
   "outputs": [
    {
     "data": {
      "text/html": [
       "<div>\n",
       "<style scoped>\n",
       "    .dataframe tbody tr th:only-of-type {\n",
       "        vertical-align: middle;\n",
       "    }\n",
       "\n",
       "    .dataframe tbody tr th {\n",
       "        vertical-align: top;\n",
       "    }\n",
       "\n",
       "    .dataframe thead th {\n",
       "        text-align: right;\n",
       "    }\n",
       "</style>\n",
       "<table border=\"1\" class=\"dataframe\">\n",
       "  <thead>\n",
       "    <tr style=\"text-align: right;\">\n",
       "      <th></th>\n",
       "      <th>Company_Brand</th>\n",
       "      <th>Founded</th>\n",
       "      <th>HeadQuarter</th>\n",
       "      <th>Sector</th>\n",
       "      <th>What_it_does</th>\n",
       "      <th>Founders</th>\n",
       "      <th>Investor</th>\n",
       "      <th>Amount</th>\n",
       "      <th>Stage</th>\n",
       "    </tr>\n",
       "  </thead>\n",
       "  <tbody>\n",
       "    <tr>\n",
       "      <th>0</th>\n",
       "      <td>Unbox Robotics</td>\n",
       "      <td>2019.0</td>\n",
       "      <td>Bangalore</td>\n",
       "      <td>AI startup</td>\n",
       "      <td>Unbox Robotics builds on-demand AI-driven ware...</td>\n",
       "      <td>Pramod Ghadge, Shahid Memon</td>\n",
       "      <td>BEENEXT, Entrepreneur First</td>\n",
       "      <td>$1,200,000</td>\n",
       "      <td>Pre-series A</td>\n",
       "    </tr>\n",
       "    <tr>\n",
       "      <th>1</th>\n",
       "      <td>upGrad</td>\n",
       "      <td>2015.0</td>\n",
       "      <td>Mumbai</td>\n",
       "      <td>EdTech</td>\n",
       "      <td>UpGrad is an online higher education platform.</td>\n",
       "      <td>Mayank Kumar, Phalgun Kompalli, Ravijot Chugh,...</td>\n",
       "      <td>Unilazer Ventures, IIFL Asset Management</td>\n",
       "      <td>$120,000,000</td>\n",
       "      <td>None</td>\n",
       "    </tr>\n",
       "    <tr>\n",
       "      <th>2</th>\n",
       "      <td>Lead School</td>\n",
       "      <td>2012.0</td>\n",
       "      <td>Mumbai</td>\n",
       "      <td>EdTech</td>\n",
       "      <td>LEAD School offers technology based school tra...</td>\n",
       "      <td>Smita Deorah, Sumeet Mehta</td>\n",
       "      <td>GSV Ventures, Westbridge Capital</td>\n",
       "      <td>$30,000,000</td>\n",
       "      <td>Series D</td>\n",
       "    </tr>\n",
       "    <tr>\n",
       "      <th>3</th>\n",
       "      <td>Bizongo</td>\n",
       "      <td>2015.0</td>\n",
       "      <td>Mumbai</td>\n",
       "      <td>B2B E-commerce</td>\n",
       "      <td>Bizongo is a business-to-business online marke...</td>\n",
       "      <td>Aniket Deb, Ankit Tomar, Sachin Agrawal</td>\n",
       "      <td>CDC Group, IDG Capital</td>\n",
       "      <td>$51,000,000</td>\n",
       "      <td>Series C</td>\n",
       "    </tr>\n",
       "    <tr>\n",
       "      <th>4</th>\n",
       "      <td>FypMoney</td>\n",
       "      <td>2021.0</td>\n",
       "      <td>Gurugram</td>\n",
       "      <td>FinTech</td>\n",
       "      <td>FypMoney is Digital NEO Bank for Teenagers, em...</td>\n",
       "      <td>Kapil Banwari</td>\n",
       "      <td>Liberatha Kallat, Mukesh Yadav, Dinesh Nagpal</td>\n",
       "      <td>$2,000,000</td>\n",
       "      <td>Seed</td>\n",
       "    </tr>\n",
       "  </tbody>\n",
       "</table>\n",
       "</div>"
      ],
      "text/plain": [
       "    Company_Brand  Founded HeadQuarter          Sector  \\\n",
       "0  Unbox Robotics   2019.0   Bangalore      AI startup   \n",
       "1          upGrad   2015.0      Mumbai          EdTech   \n",
       "2     Lead School   2012.0      Mumbai          EdTech   \n",
       "3         Bizongo   2015.0      Mumbai  B2B E-commerce   \n",
       "4        FypMoney   2021.0    Gurugram         FinTech   \n",
       "\n",
       "                                        What_it_does  \\\n",
       "0  Unbox Robotics builds on-demand AI-driven ware...   \n",
       "1     UpGrad is an online higher education platform.   \n",
       "2  LEAD School offers technology based school tra...   \n",
       "3  Bizongo is a business-to-business online marke...   \n",
       "4  FypMoney is Digital NEO Bank for Teenagers, em...   \n",
       "\n",
       "                                            Founders  \\\n",
       "0                        Pramod Ghadge, Shahid Memon   \n",
       "1  Mayank Kumar, Phalgun Kompalli, Ravijot Chugh,...   \n",
       "2                         Smita Deorah, Sumeet Mehta   \n",
       "3            Aniket Deb, Ankit Tomar, Sachin Agrawal   \n",
       "4                                      Kapil Banwari   \n",
       "\n",
       "                                        Investor        Amount         Stage  \n",
       "0                    BEENEXT, Entrepreneur First    $1,200,000  Pre-series A  \n",
       "1       Unilazer Ventures, IIFL Asset Management  $120,000,000          None  \n",
       "2               GSV Ventures, Westbridge Capital   $30,000,000      Series D  \n",
       "3                         CDC Group, IDG Capital   $51,000,000      Series C  \n",
       "4  Liberatha Kallat, Mukesh Yadav, Dinesh Nagpal    $2,000,000          Seed  "
      ]
     },
     "execution_count": 6,
     "metadata": {},
     "output_type": "execute_result"
    }
   ],
   "source": [
    "query = \"SELECT * FROM LP1_startup_funding2021\"\n",
    "data1= pd.read_sql(query, connection)\n",
    "data1.head(5)"
   ]
  },
  {
   "cell_type": "code",
   "execution_count": 7,
   "metadata": {},
   "outputs": [
    {
     "data": {
      "text/html": [
       "<div>\n",
       "<style scoped>\n",
       "    .dataframe tbody tr th:only-of-type {\n",
       "        vertical-align: middle;\n",
       "    }\n",
       "\n",
       "    .dataframe tbody tr th {\n",
       "        vertical-align: top;\n",
       "    }\n",
       "\n",
       "    .dataframe thead th {\n",
       "        text-align: right;\n",
       "    }\n",
       "</style>\n",
       "<table border=\"1\" class=\"dataframe\">\n",
       "  <thead>\n",
       "    <tr style=\"text-align: right;\">\n",
       "      <th></th>\n",
       "      <th>Company_Brand</th>\n",
       "      <th>Founded</th>\n",
       "      <th>HeadQuarter</th>\n",
       "      <th>Sector</th>\n",
       "      <th>What_it_does</th>\n",
       "      <th>Founders</th>\n",
       "      <th>Investor</th>\n",
       "      <th>Amount</th>\n",
       "      <th>Stage</th>\n",
       "    </tr>\n",
       "  </thead>\n",
       "  <tbody>\n",
       "    <tr>\n",
       "      <th>1199</th>\n",
       "      <td>Proeon</td>\n",
       "      <td>2018.0</td>\n",
       "      <td>Pune</td>\n",
       "      <td>Food Production</td>\n",
       "      <td>Innovating plant protein ingredients with supe...</td>\n",
       "      <td>Ashish Korde, Kevin Parekh</td>\n",
       "      <td>Shaival Desai, Flowstate Ventures</td>\n",
       "      <td>$2000000</td>\n",
       "      <td>Seed</td>\n",
       "    </tr>\n",
       "    <tr>\n",
       "      <th>1200</th>\n",
       "      <td>InfyU Labs</td>\n",
       "      <td>2019.0</td>\n",
       "      <td>Gandhinagar</td>\n",
       "      <td>AgriTech</td>\n",
       "      <td>InfyU Labs is a team of dedicated professional...</td>\n",
       "      <td>Amit Srivastava, Ankit Chauhan</td>\n",
       "      <td>IAN</td>\n",
       "      <td>$200000</td>\n",
       "      <td>Seed</td>\n",
       "    </tr>\n",
       "    <tr>\n",
       "      <th>1201</th>\n",
       "      <td>TechEagle</td>\n",
       "      <td>2015.0</td>\n",
       "      <td>Gurugram</td>\n",
       "      <td>Aviation &amp; Aerospace</td>\n",
       "      <td>Safe, secure &amp; reliable On-Demand Drone delive...</td>\n",
       "      <td>Vikram Singh Meena</td>\n",
       "      <td>India Accelerator</td>\n",
       "      <td>$500000</td>\n",
       "      <td>Seed</td>\n",
       "    </tr>\n",
       "    <tr>\n",
       "      <th>1202</th>\n",
       "      <td>Voxelgrids</td>\n",
       "      <td>2017.0</td>\n",
       "      <td>Bangalore</td>\n",
       "      <td>Deeptech</td>\n",
       "      <td>Voxelgrids is an Magnetic Resonance Imaging te...</td>\n",
       "      <td>Arjun Arunachalam</td>\n",
       "      <td>Zoho</td>\n",
       "      <td>$5000000</td>\n",
       "      <td>None</td>\n",
       "    </tr>\n",
       "    <tr>\n",
       "      <th>1203</th>\n",
       "      <td>Cogos Technologies</td>\n",
       "      <td>2016.0</td>\n",
       "      <td>Bangalore</td>\n",
       "      <td>Logistics &amp; Supply Chain</td>\n",
       "      <td>A smart-tech-enabled platform offering a one-s...</td>\n",
       "      <td>Prasad Sreeram</td>\n",
       "      <td>Transworld Group</td>\n",
       "      <td>$2000000</td>\n",
       "      <td>Pre-series A</td>\n",
       "    </tr>\n",
       "    <tr>\n",
       "      <th>1204</th>\n",
       "      <td>Gigforce</td>\n",
       "      <td>2019.0</td>\n",
       "      <td>Gurugram</td>\n",
       "      <td>Staffing &amp; Recruiting</td>\n",
       "      <td>A gig/on-demand staffing company.</td>\n",
       "      <td>Chirag Mittal, Anirudh Syal</td>\n",
       "      <td>Endiya Partners</td>\n",
       "      <td>$3000000</td>\n",
       "      <td>Pre-series A</td>\n",
       "    </tr>\n",
       "    <tr>\n",
       "      <th>1205</th>\n",
       "      <td>Vahdam</td>\n",
       "      <td>2015.0</td>\n",
       "      <td>New Delhi</td>\n",
       "      <td>Food &amp; Beverages</td>\n",
       "      <td>VAHDAM is among the world’s first vertically i...</td>\n",
       "      <td>Bala Sarda</td>\n",
       "      <td>IIFL AMC</td>\n",
       "      <td>$20000000</td>\n",
       "      <td>Series D</td>\n",
       "    </tr>\n",
       "    <tr>\n",
       "      <th>1206</th>\n",
       "      <td>Leap Finance</td>\n",
       "      <td>2019.0</td>\n",
       "      <td>Bangalore</td>\n",
       "      <td>Financial Services</td>\n",
       "      <td>International education loans for high potenti...</td>\n",
       "      <td>Arnav Kumar, Vaibhav Singh</td>\n",
       "      <td>Owl Ventures</td>\n",
       "      <td>$55000000</td>\n",
       "      <td>Series C</td>\n",
       "    </tr>\n",
       "    <tr>\n",
       "      <th>1207</th>\n",
       "      <td>CollegeDekho</td>\n",
       "      <td>2015.0</td>\n",
       "      <td>Gurugram</td>\n",
       "      <td>EdTech</td>\n",
       "      <td>Collegedekho.com is Student’s Partner, Friend ...</td>\n",
       "      <td>Ruchir Arora</td>\n",
       "      <td>Winter Capital, ETS, Man Capital</td>\n",
       "      <td>$26000000</td>\n",
       "      <td>Series B</td>\n",
       "    </tr>\n",
       "    <tr>\n",
       "      <th>1208</th>\n",
       "      <td>WeRize</td>\n",
       "      <td>2019.0</td>\n",
       "      <td>Bangalore</td>\n",
       "      <td>Financial Services</td>\n",
       "      <td>India’s first socially distributed full stack ...</td>\n",
       "      <td>Vishal Chopra, Himanshu Gupta</td>\n",
       "      <td>3one4 Capital, Kalaari Capital</td>\n",
       "      <td>$8000000</td>\n",
       "      <td>Series A</td>\n",
       "    </tr>\n",
       "  </tbody>\n",
       "</table>\n",
       "</div>"
      ],
      "text/plain": [
       "           Company_Brand  Founded  HeadQuarter                    Sector  \\\n",
       "1199              Proeon   2018.0         Pune           Food Production   \n",
       "1200          InfyU Labs   2019.0  Gandhinagar                  AgriTech   \n",
       "1201           TechEagle   2015.0     Gurugram      Aviation & Aerospace   \n",
       "1202          Voxelgrids   2017.0    Bangalore                  Deeptech   \n",
       "1203  Cogos Technologies   2016.0    Bangalore  Logistics & Supply Chain   \n",
       "1204            Gigforce   2019.0     Gurugram     Staffing & Recruiting   \n",
       "1205              Vahdam   2015.0    New Delhi          Food & Beverages   \n",
       "1206        Leap Finance   2019.0    Bangalore        Financial Services   \n",
       "1207        CollegeDekho   2015.0     Gurugram                    EdTech   \n",
       "1208              WeRize   2019.0    Bangalore        Financial Services   \n",
       "\n",
       "                                           What_it_does  \\\n",
       "1199  Innovating plant protein ingredients with supe...   \n",
       "1200  InfyU Labs is a team of dedicated professional...   \n",
       "1201  Safe, secure & reliable On-Demand Drone delive...   \n",
       "1202  Voxelgrids is an Magnetic Resonance Imaging te...   \n",
       "1203  A smart-tech-enabled platform offering a one-s...   \n",
       "1204                  A gig/on-demand staffing company.   \n",
       "1205  VAHDAM is among the world’s first vertically i...   \n",
       "1206  International education loans for high potenti...   \n",
       "1207  Collegedekho.com is Student’s Partner, Friend ...   \n",
       "1208  India’s first socially distributed full stack ...   \n",
       "\n",
       "                            Founders                           Investor  \\\n",
       "1199      Ashish Korde, Kevin Parekh  Shaival Desai, Flowstate Ventures   \n",
       "1200  Amit Srivastava, Ankit Chauhan                                IAN   \n",
       "1201              Vikram Singh Meena                  India Accelerator   \n",
       "1202               Arjun Arunachalam                               Zoho   \n",
       "1203                  Prasad Sreeram                   Transworld Group   \n",
       "1204     Chirag Mittal, Anirudh Syal                    Endiya Partners   \n",
       "1205                      Bala Sarda                           IIFL AMC   \n",
       "1206      Arnav Kumar, Vaibhav Singh                       Owl Ventures   \n",
       "1207                    Ruchir Arora   Winter Capital, ETS, Man Capital   \n",
       "1208   Vishal Chopra, Himanshu Gupta     3one4 Capital, Kalaari Capital   \n",
       "\n",
       "         Amount         Stage  \n",
       "1199   $2000000          Seed  \n",
       "1200    $200000          Seed  \n",
       "1201    $500000          Seed  \n",
       "1202   $5000000          None  \n",
       "1203   $2000000  Pre-series A  \n",
       "1204   $3000000  Pre-series A  \n",
       "1205  $20000000      Series D  \n",
       "1206  $55000000      Series C  \n",
       "1207  $26000000      Series B  \n",
       "1208   $8000000      Series A  "
      ]
     },
     "execution_count": 7,
     "metadata": {},
     "output_type": "execute_result"
    }
   ],
   "source": [
    "data1.tail(10)"
   ]
  },
  {
   "cell_type": "code",
   "execution_count": 8,
   "metadata": {},
   "outputs": [
    {
     "data": {
      "text/plain": [
       "(1209, 9)"
      ]
     },
     "execution_count": 8,
     "metadata": {},
     "output_type": "execute_result"
    }
   ],
   "source": [
    "data1.shape"
   ]
  },
  {
   "cell_type": "code",
   "execution_count": 9,
   "metadata": {},
   "outputs": [
    {
     "data": {
      "text/plain": [
       "<bound method DataFrame.info of        Company_Brand  Founded HeadQuarter                 Sector  \\\n",
       "0     Unbox Robotics   2019.0   Bangalore             AI startup   \n",
       "1             upGrad   2015.0      Mumbai                 EdTech   \n",
       "2        Lead School   2012.0      Mumbai                 EdTech   \n",
       "3            Bizongo   2015.0      Mumbai         B2B E-commerce   \n",
       "4           FypMoney   2021.0    Gurugram                FinTech   \n",
       "...              ...      ...         ...                    ...   \n",
       "1204        Gigforce   2019.0    Gurugram  Staffing & Recruiting   \n",
       "1205          Vahdam   2015.0   New Delhi       Food & Beverages   \n",
       "1206    Leap Finance   2019.0   Bangalore     Financial Services   \n",
       "1207    CollegeDekho   2015.0    Gurugram                 EdTech   \n",
       "1208          WeRize   2019.0   Bangalore     Financial Services   \n",
       "\n",
       "                                           What_it_does  \\\n",
       "0     Unbox Robotics builds on-demand AI-driven ware...   \n",
       "1        UpGrad is an online higher education platform.   \n",
       "2     LEAD School offers technology based school tra...   \n",
       "3     Bizongo is a business-to-business online marke...   \n",
       "4     FypMoney is Digital NEO Bank for Teenagers, em...   \n",
       "...                                                 ...   \n",
       "1204                  A gig/on-demand staffing company.   \n",
       "1205  VAHDAM is among the world’s first vertically i...   \n",
       "1206  International education loans for high potenti...   \n",
       "1207  Collegedekho.com is Student’s Partner, Friend ...   \n",
       "1208  India’s first socially distributed full stack ...   \n",
       "\n",
       "                                               Founders  \\\n",
       "0                           Pramod Ghadge, Shahid Memon   \n",
       "1     Mayank Kumar, Phalgun Kompalli, Ravijot Chugh,...   \n",
       "2                            Smita Deorah, Sumeet Mehta   \n",
       "3               Aniket Deb, Ankit Tomar, Sachin Agrawal   \n",
       "4                                         Kapil Banwari   \n",
       "...                                                 ...   \n",
       "1204                        Chirag Mittal, Anirudh Syal   \n",
       "1205                                         Bala Sarda   \n",
       "1206                         Arnav Kumar, Vaibhav Singh   \n",
       "1207                                       Ruchir Arora   \n",
       "1208                      Vishal Chopra, Himanshu Gupta   \n",
       "\n",
       "                                           Investor        Amount  \\\n",
       "0                       BEENEXT, Entrepreneur First    $1,200,000   \n",
       "1          Unilazer Ventures, IIFL Asset Management  $120,000,000   \n",
       "2                  GSV Ventures, Westbridge Capital   $30,000,000   \n",
       "3                            CDC Group, IDG Capital   $51,000,000   \n",
       "4     Liberatha Kallat, Mukesh Yadav, Dinesh Nagpal    $2,000,000   \n",
       "...                                             ...           ...   \n",
       "1204                                Endiya Partners      $3000000   \n",
       "1205                                       IIFL AMC     $20000000   \n",
       "1206                                   Owl Ventures     $55000000   \n",
       "1207               Winter Capital, ETS, Man Capital     $26000000   \n",
       "1208                 3one4 Capital, Kalaari Capital      $8000000   \n",
       "\n",
       "             Stage  \n",
       "0     Pre-series A  \n",
       "1             None  \n",
       "2         Series D  \n",
       "3         Series C  \n",
       "4             Seed  \n",
       "...            ...  \n",
       "1204  Pre-series A  \n",
       "1205      Series D  \n",
       "1206      Series C  \n",
       "1207      Series B  \n",
       "1208      Series A  \n",
       "\n",
       "[1209 rows x 9 columns]>"
      ]
     },
     "execution_count": 9,
     "metadata": {},
     "output_type": "execute_result"
    }
   ],
   "source": [
    "data1.info"
   ]
  },
  {
   "cell_type": "code",
   "execution_count": 10,
   "metadata": {},
   "outputs": [
    {
     "data": {
      "text/plain": [
       "0         $1,200,000\n",
       "1       $120,000,000\n",
       "2        $30,000,000\n",
       "3        $51,000,000\n",
       "4         $2,000,000\n",
       "            ...     \n",
       "1204        $3000000\n",
       "1205       $20000000\n",
       "1206       $55000000\n",
       "1207       $26000000\n",
       "1208        $8000000\n",
       "Name: Amount, Length: 1209, dtype: object"
      ]
     },
     "execution_count": 10,
     "metadata": {},
     "output_type": "execute_result"
    }
   ],
   "source": [
    "data1[\"Amount\"]"
   ]
  },
  {
   "cell_type": "code",
   "execution_count": 13,
   "metadata": {},
   "outputs": [],
   "source": [
    "data1[\"Amount\"] = data1.Amount.apply(lambda x:str(x).replace(\"$\",\"\"))\n",
    "\n",
    "# Remove dollar sign"
   ]
  },
  {
   "cell_type": "code",
   "execution_count": 15,
   "metadata": {},
   "outputs": [
    {
     "data": {
      "text/plain": [
       "0         1,200,000\n",
       "1       120,000,000\n",
       "2        30,000,000\n",
       "3        51,000,000\n",
       "4         2,000,000\n",
       "           ...     \n",
       "1204        3000000\n",
       "1205       20000000\n",
       "1206       55000000\n",
       "1207       26000000\n",
       "1208        8000000\n",
       "Name: Amount, Length: 1209, dtype: object"
      ]
     },
     "execution_count": 15,
     "metadata": {},
     "output_type": "execute_result"
    }
   ],
   "source": [
    "data1[\"Amount\"]"
   ]
  },
  {
   "cell_type": "code",
   "execution_count": 16,
   "metadata": {},
   "outputs": [],
   "source": [
    "data1[\"Amount\"] = data1.Amount.apply(lambda x:str(x).replace(\"\",\"\"))"
   ]
  },
  {
   "cell_type": "code",
   "execution_count": 17,
   "metadata": {},
   "outputs": [
    {
     "data": {
      "text/plain": [
       "<bound method DataFrame.info of        Company_Brand  Founded HeadQuarter                 Sector  \\\n",
       "0     Unbox Robotics   2019.0   Bangalore             AI startup   \n",
       "1             upGrad   2015.0      Mumbai                 EdTech   \n",
       "2        Lead School   2012.0      Mumbai                 EdTech   \n",
       "3            Bizongo   2015.0      Mumbai         B2B E-commerce   \n",
       "4           FypMoney   2021.0    Gurugram                FinTech   \n",
       "...              ...      ...         ...                    ...   \n",
       "1204        Gigforce   2019.0    Gurugram  Staffing & Recruiting   \n",
       "1205          Vahdam   2015.0   New Delhi       Food & Beverages   \n",
       "1206    Leap Finance   2019.0   Bangalore     Financial Services   \n",
       "1207    CollegeDekho   2015.0    Gurugram                 EdTech   \n",
       "1208          WeRize   2019.0   Bangalore     Financial Services   \n",
       "\n",
       "                                           What_it_does  \\\n",
       "0     Unbox Robotics builds on-demand AI-driven ware...   \n",
       "1        UpGrad is an online higher education platform.   \n",
       "2     LEAD School offers technology based school tra...   \n",
       "3     Bizongo is a business-to-business online marke...   \n",
       "4     FypMoney is Digital NEO Bank for Teenagers, em...   \n",
       "...                                                 ...   \n",
       "1204                  A gig/on-demand staffing company.   \n",
       "1205  VAHDAM is among the world’s first vertically i...   \n",
       "1206  International education loans for high potenti...   \n",
       "1207  Collegedekho.com is Student’s Partner, Friend ...   \n",
       "1208  India’s first socially distributed full stack ...   \n",
       "\n",
       "                                               Founders  \\\n",
       "0                           Pramod Ghadge, Shahid Memon   \n",
       "1     Mayank Kumar, Phalgun Kompalli, Ravijot Chugh,...   \n",
       "2                            Smita Deorah, Sumeet Mehta   \n",
       "3               Aniket Deb, Ankit Tomar, Sachin Agrawal   \n",
       "4                                         Kapil Banwari   \n",
       "...                                                 ...   \n",
       "1204                        Chirag Mittal, Anirudh Syal   \n",
       "1205                                         Bala Sarda   \n",
       "1206                         Arnav Kumar, Vaibhav Singh   \n",
       "1207                                       Ruchir Arora   \n",
       "1208                      Vishal Chopra, Himanshu Gupta   \n",
       "\n",
       "                                           Investor       Amount         Stage  \n",
       "0                       BEENEXT, Entrepreneur First    1,200,000  Pre-series A  \n",
       "1          Unilazer Ventures, IIFL Asset Management  120,000,000          None  \n",
       "2                  GSV Ventures, Westbridge Capital   30,000,000      Series D  \n",
       "3                            CDC Group, IDG Capital   51,000,000      Series C  \n",
       "4     Liberatha Kallat, Mukesh Yadav, Dinesh Nagpal    2,000,000          Seed  \n",
       "...                                             ...          ...           ...  \n",
       "1204                                Endiya Partners      3000000  Pre-series A  \n",
       "1205                                       IIFL AMC     20000000      Series D  \n",
       "1206                                   Owl Ventures     55000000      Series C  \n",
       "1207               Winter Capital, ETS, Man Capital     26000000      Series B  \n",
       "1208                 3one4 Capital, Kalaari Capital      8000000      Series A  \n",
       "\n",
       "[1209 rows x 9 columns]>"
      ]
     },
     "execution_count": 17,
     "metadata": {},
     "output_type": "execute_result"
    }
   ],
   "source": [
    "data1.info"
   ]
  },
  {
   "cell_type": "code",
   "execution_count": 18,
   "metadata": {},
   "outputs": [
    {
     "data": {
      "text/plain": [
       "Company_Brand     object\n",
       "Founded          float64\n",
       "HeadQuarter       object\n",
       "Sector            object\n",
       "What_it_does      object\n",
       "Founders          object\n",
       "Investor          object\n",
       "Amount            object\n",
       "Stage             object\n",
       "dtype: object"
      ]
     },
     "execution_count": 18,
     "metadata": {},
     "output_type": "execute_result"
    }
   ],
   "source": [
    "data1.dtypes"
   ]
  },
  {
   "cell_type": "code",
   "execution_count": 20,
   "metadata": {},
   "outputs": [
    {
     "data": {
      "text/plain": [
       "Company_Brand      0\n",
       "Founded            1\n",
       "HeadQuarter        1\n",
       "Sector             0\n",
       "What_it_does       0\n",
       "Founders           4\n",
       "Investor          62\n",
       "Amount             0\n",
       "Stage            428\n",
       "dtype: int64"
      ]
     },
     "execution_count": 20,
     "metadata": {},
     "output_type": "execute_result"
    }
   ],
   "source": [
    "data1.isna().sum()\n",
    "# Check missing values"
   ]
  },
  {
   "cell_type": "code",
   "execution_count": 26,
   "metadata": {},
   "outputs": [],
   "source": [
    "data_missing = data1[data1.isna().Stage]"
   ]
  },
  {
   "cell_type": "code",
   "execution_count": 27,
   "metadata": {},
   "outputs": [
    {
     "data": {
      "text/html": [
       "<div>\n",
       "<style scoped>\n",
       "    .dataframe tbody tr th:only-of-type {\n",
       "        vertical-align: middle;\n",
       "    }\n",
       "\n",
       "    .dataframe tbody tr th {\n",
       "        vertical-align: top;\n",
       "    }\n",
       "\n",
       "    .dataframe thead th {\n",
       "        text-align: right;\n",
       "    }\n",
       "</style>\n",
       "<table border=\"1\" class=\"dataframe\">\n",
       "  <thead>\n",
       "    <tr style=\"text-align: right;\">\n",
       "      <th></th>\n",
       "      <th>Company_Brand</th>\n",
       "      <th>Founded</th>\n",
       "      <th>HeadQuarter</th>\n",
       "      <th>Sector</th>\n",
       "      <th>What_it_does</th>\n",
       "      <th>Founders</th>\n",
       "      <th>Investor</th>\n",
       "      <th>Amount</th>\n",
       "      <th>Stage</th>\n",
       "    </tr>\n",
       "  </thead>\n",
       "  <tbody>\n",
       "    <tr>\n",
       "      <th>1</th>\n",
       "      <td>upGrad</td>\n",
       "      <td>2015.0</td>\n",
       "      <td>Mumbai</td>\n",
       "      <td>EdTech</td>\n",
       "      <td>UpGrad is an online higher education platform.</td>\n",
       "      <td>Mayank Kumar, Phalgun Kompalli, Ravijot Chugh,...</td>\n",
       "      <td>Unilazer Ventures, IIFL Asset Management</td>\n",
       "      <td>120,000,000</td>\n",
       "      <td>None</td>\n",
       "    </tr>\n",
       "    <tr>\n",
       "      <th>5</th>\n",
       "      <td>Urban Company</td>\n",
       "      <td>2014.0</td>\n",
       "      <td>New Delhi</td>\n",
       "      <td>Home services</td>\n",
       "      <td>Urban Company (Formerly UrbanClap) is a home a...</td>\n",
       "      <td>Abhiraj Singh Bhal, Raghav Chandra, Varun Khaitan</td>\n",
       "      <td>Vy Capital</td>\n",
       "      <td>188,000,000</td>\n",
       "      <td>None</td>\n",
       "    </tr>\n",
       "    <tr>\n",
       "      <th>6</th>\n",
       "      <td>Comofi Medtech</td>\n",
       "      <td>2018.0</td>\n",
       "      <td>Bangalore</td>\n",
       "      <td>HealthTech</td>\n",
       "      <td>Comofi Medtech is a healthcare robotics startup.</td>\n",
       "      <td>Gururaj KB</td>\n",
       "      <td>CIIE.CO, KIIT-TBI</td>\n",
       "      <td>200,000</td>\n",
       "      <td>None</td>\n",
       "    </tr>\n",
       "    <tr>\n",
       "      <th>8</th>\n",
       "      <td>Vitra.ai</td>\n",
       "      <td>2020.0</td>\n",
       "      <td>Bangalore</td>\n",
       "      <td>Tech Startup</td>\n",
       "      <td>Vitra.ai is an AI-based video translation plat...</td>\n",
       "      <td>Akash Nidhi PS</td>\n",
       "      <td>Inflexor Ventures</td>\n",
       "      <td>Undisclosed</td>\n",
       "      <td>None</td>\n",
       "    </tr>\n",
       "    <tr>\n",
       "      <th>9</th>\n",
       "      <td>Taikee</td>\n",
       "      <td>2010.0</td>\n",
       "      <td>Mumbai</td>\n",
       "      <td>E-commerce</td>\n",
       "      <td>Taikee is the ISO-certified, B2B e-commerce pl...</td>\n",
       "      <td>Nidhi Ramachandran, Sachin Chhabra</td>\n",
       "      <td>None</td>\n",
       "      <td>1,000,000</td>\n",
       "      <td>None</td>\n",
       "    </tr>\n",
       "    <tr>\n",
       "      <th>...</th>\n",
       "      <td>...</td>\n",
       "      <td>...</td>\n",
       "      <td>...</td>\n",
       "      <td>...</td>\n",
       "      <td>...</td>\n",
       "      <td>...</td>\n",
       "      <td>...</td>\n",
       "      <td>...</td>\n",
       "      <td>...</td>\n",
       "    </tr>\n",
       "    <tr>\n",
       "      <th>1172</th>\n",
       "      <td>Peppermint</td>\n",
       "      <td>2019.0</td>\n",
       "      <td>Pune</td>\n",
       "      <td>Industrial Automation</td>\n",
       "      <td>Intelligent Housekeeping Robots for public and...</td>\n",
       "      <td>Runal Dahiwade, Miraj C Vora</td>\n",
       "      <td>Venture Catalysts, Indian Angel Network</td>\n",
       "      <td>600000</td>\n",
       "      <td>None</td>\n",
       "    </tr>\n",
       "    <tr>\n",
       "      <th>1182</th>\n",
       "      <td>Sugar.fit</td>\n",
       "      <td>2021.0</td>\n",
       "      <td>Bangalore</td>\n",
       "      <td>Health</td>\n",
       "      <td>Innovative technology, compassionate diabetes ...</td>\n",
       "      <td>Shivtosh Kumar, Madan Somasundaram</td>\n",
       "      <td>Cure.fit, Endiya Partners, Tanglin Venture</td>\n",
       "      <td>10000000</td>\n",
       "      <td>None</td>\n",
       "    </tr>\n",
       "    <tr>\n",
       "      <th>1192</th>\n",
       "      <td>Geniemode</td>\n",
       "      <td>2021.0</td>\n",
       "      <td>Gurugram</td>\n",
       "      <td>B2B</td>\n",
       "      <td>Transforming global sourcing for retailers &amp; s...</td>\n",
       "      <td>Amit Sharma, Tanuj Gangwani</td>\n",
       "      <td>Info Edge Ventures</td>\n",
       "      <td>2000000</td>\n",
       "      <td>None</td>\n",
       "    </tr>\n",
       "    <tr>\n",
       "      <th>1193</th>\n",
       "      <td>Sapio Analytics</td>\n",
       "      <td>2019.0</td>\n",
       "      <td>Mumbai</td>\n",
       "      <td>Computer Software</td>\n",
       "      <td>Sapio helps government create policies driven ...</td>\n",
       "      <td>Hardik Somani, Ashwin Srivastava, Shripal Jain...</td>\n",
       "      <td>Rachit Poddar, Rajesh Gupta</td>\n",
       "      <td>Undisclosed</td>\n",
       "      <td>None</td>\n",
       "    </tr>\n",
       "    <tr>\n",
       "      <th>1202</th>\n",
       "      <td>Voxelgrids</td>\n",
       "      <td>2017.0</td>\n",
       "      <td>Bangalore</td>\n",
       "      <td>Deeptech</td>\n",
       "      <td>Voxelgrids is an Magnetic Resonance Imaging te...</td>\n",
       "      <td>Arjun Arunachalam</td>\n",
       "      <td>Zoho</td>\n",
       "      <td>5000000</td>\n",
       "      <td>None</td>\n",
       "    </tr>\n",
       "  </tbody>\n",
       "</table>\n",
       "<p>428 rows × 9 columns</p>\n",
       "</div>"
      ],
      "text/plain": [
       "        Company_Brand  Founded HeadQuarter                 Sector  \\\n",
       "1              upGrad   2015.0      Mumbai                 EdTech   \n",
       "5       Urban Company   2014.0   New Delhi          Home services   \n",
       "6      Comofi Medtech   2018.0   Bangalore             HealthTech   \n",
       "8            Vitra.ai   2020.0   Bangalore           Tech Startup   \n",
       "9              Taikee   2010.0      Mumbai             E-commerce   \n",
       "...               ...      ...         ...                    ...   \n",
       "1172       Peppermint   2019.0        Pune  Industrial Automation   \n",
       "1182        Sugar.fit   2021.0   Bangalore                 Health   \n",
       "1192        Geniemode   2021.0    Gurugram                    B2B   \n",
       "1193  Sapio Analytics   2019.0      Mumbai      Computer Software   \n",
       "1202       Voxelgrids   2017.0   Bangalore               Deeptech   \n",
       "\n",
       "                                           What_it_does  \\\n",
       "1        UpGrad is an online higher education platform.   \n",
       "5     Urban Company (Formerly UrbanClap) is a home a...   \n",
       "6      Comofi Medtech is a healthcare robotics startup.   \n",
       "8     Vitra.ai is an AI-based video translation plat...   \n",
       "9     Taikee is the ISO-certified, B2B e-commerce pl...   \n",
       "...                                                 ...   \n",
       "1172  Intelligent Housekeeping Robots for public and...   \n",
       "1182  Innovative technology, compassionate diabetes ...   \n",
       "1192  Transforming global sourcing for retailers & s...   \n",
       "1193  Sapio helps government create policies driven ...   \n",
       "1202  Voxelgrids is an Magnetic Resonance Imaging te...   \n",
       "\n",
       "                                               Founders  \\\n",
       "1     Mayank Kumar, Phalgun Kompalli, Ravijot Chugh,...   \n",
       "5     Abhiraj Singh Bhal, Raghav Chandra, Varun Khaitan   \n",
       "6                                            Gururaj KB   \n",
       "8                                        Akash Nidhi PS   \n",
       "9                    Nidhi Ramachandran, Sachin Chhabra   \n",
       "...                                                 ...   \n",
       "1172                       Runal Dahiwade, Miraj C Vora   \n",
       "1182                 Shivtosh Kumar, Madan Somasundaram   \n",
       "1192                        Amit Sharma, Tanuj Gangwani   \n",
       "1193  Hardik Somani, Ashwin Srivastava, Shripal Jain...   \n",
       "1202                                  Arjun Arunachalam   \n",
       "\n",
       "                                        Investor       Amount Stage  \n",
       "1       Unilazer Ventures, IIFL Asset Management  120,000,000  None  \n",
       "5                                     Vy Capital  188,000,000  None  \n",
       "6                              CIIE.CO, KIIT-TBI      200,000  None  \n",
       "8                              Inflexor Ventures  Undisclosed  None  \n",
       "9                                           None    1,000,000  None  \n",
       "...                                          ...          ...   ...  \n",
       "1172     Venture Catalysts, Indian Angel Network       600000  None  \n",
       "1182  Cure.fit, Endiya Partners, Tanglin Venture     10000000  None  \n",
       "1192                          Info Edge Ventures      2000000  None  \n",
       "1193                 Rachit Poddar, Rajesh Gupta  Undisclosed  None  \n",
       "1202                                        Zoho      5000000  None  \n",
       "\n",
       "[428 rows x 9 columns]"
      ]
     },
     "execution_count": 27,
     "metadata": {},
     "output_type": "execute_result"
    }
   ],
   "source": [
    "data_missing"
   ]
  },
  {
   "cell_type": "code",
   "execution_count": 28,
   "metadata": {},
   "outputs": [],
   "source": [
    "data_drop_stage = data1.dropna()"
   ]
  },
  {
   "cell_type": "code",
   "execution_count": 29,
   "metadata": {},
   "outputs": [
    {
     "data": {
      "text/plain": [
       "(742, 9)"
      ]
     },
     "execution_count": 29,
     "metadata": {},
     "output_type": "execute_result"
    }
   ],
   "source": [
    "data_drop_stage.shape"
   ]
  },
  {
   "cell_type": "code",
   "execution_count": 31,
   "metadata": {},
   "outputs": [
    {
     "data": {
      "text/plain": [
       "19"
      ]
     },
     "execution_count": 31,
     "metadata": {},
     "output_type": "execute_result"
    }
   ],
   "source": [
    "# Check for duplicate value\n",
    "data1.duplicated().sum()"
   ]
  },
  {
   "cell_type": "code",
   "execution_count": 35,
   "metadata": {},
   "outputs": [],
   "source": [
    "data1 = data1.drop_duplicates(keep='last')\n",
    "# Clean duplicate values and keep last value\n"
   ]
  },
  {
   "cell_type": "code",
   "execution_count": 37,
   "metadata": {},
   "outputs": [
    {
     "data": {
      "text/plain": [
       "0"
      ]
     },
     "execution_count": 37,
     "metadata": {},
     "output_type": "execute_result"
    }
   ],
   "source": [
    "# Check again for duplicates\n",
    "data1.duplicated().sum()"
   ]
  },
  {
   "cell_type": "code",
   "execution_count": 39,
   "metadata": {},
   "outputs": [
    {
     "name": "stdout",
     "output_type": "stream",
     "text": [
      "        Company_Brand  Founded HeadQuarter                 Sector  \\\n",
      "1              upGrad   2015.0      Mumbai                 EdTech   \n",
      "5       Urban Company   2014.0   New Delhi          Home services   \n",
      "6      Comofi Medtech   2018.0   Bangalore             HealthTech   \n",
      "8            Vitra.ai   2020.0   Bangalore           Tech Startup   \n",
      "9              Taikee   2010.0      Mumbai             E-commerce   \n",
      "...               ...      ...         ...                    ...   \n",
      "1172       Peppermint   2019.0        Pune  Industrial Automation   \n",
      "1182        Sugar.fit   2021.0   Bangalore                 Health   \n",
      "1192        Geniemode   2021.0    Gurugram                    B2B   \n",
      "1193  Sapio Analytics   2019.0      Mumbai      Computer Software   \n",
      "1202       Voxelgrids   2017.0   Bangalore               Deeptech   \n",
      "\n",
      "                                           What_it_does  \\\n",
      "1        UpGrad is an online higher education platform.   \n",
      "5     Urban Company (Formerly UrbanClap) is a home a...   \n",
      "6      Comofi Medtech is a healthcare robotics startup.   \n",
      "8     Vitra.ai is an AI-based video translation plat...   \n",
      "9     Taikee is the ISO-certified, B2B e-commerce pl...   \n",
      "...                                                 ...   \n",
      "1172  Intelligent Housekeeping Robots for public and...   \n",
      "1182  Innovative technology, compassionate diabetes ...   \n",
      "1192  Transforming global sourcing for retailers & s...   \n",
      "1193  Sapio helps government create policies driven ...   \n",
      "1202  Voxelgrids is an Magnetic Resonance Imaging te...   \n",
      "\n",
      "                                               Founders  \\\n",
      "1     Mayank Kumar, Phalgun Kompalli, Ravijot Chugh,...   \n",
      "5     Abhiraj Singh Bhal, Raghav Chandra, Varun Khaitan   \n",
      "6                                            Gururaj KB   \n",
      "8                                        Akash Nidhi PS   \n",
      "9                    Nidhi Ramachandran, Sachin Chhabra   \n",
      "...                                                 ...   \n",
      "1172                       Runal Dahiwade, Miraj C Vora   \n",
      "1182                 Shivtosh Kumar, Madan Somasundaram   \n",
      "1192                        Amit Sharma, Tanuj Gangwani   \n",
      "1193  Hardik Somani, Ashwin Srivastava, Shripal Jain...   \n",
      "1202                                  Arjun Arunachalam   \n",
      "\n",
      "                                        Investor       Amount Stage  \n",
      "1       Unilazer Ventures, IIFL Asset Management  120,000,000  None  \n",
      "5                                     Vy Capital  188,000,000  None  \n",
      "6                              CIIE.CO, KIIT-TBI      200,000  None  \n",
      "8                              Inflexor Ventures  Undisclosed  None  \n",
      "9                                           None    1,000,000  None  \n",
      "...                                          ...          ...   ...  \n",
      "1172     Venture Catalysts, Indian Angel Network       600000  None  \n",
      "1182  Cure.fit, Endiya Partners, Tanglin Venture     10000000  None  \n",
      "1192                          Info Edge Ventures      2000000  None  \n",
      "1193                 Rachit Poddar, Rajesh Gupta  Undisclosed  None  \n",
      "1202                                        Zoho      5000000  None  \n",
      "\n",
      "[428 rows x 9 columns]\n"
     ]
    }
   ],
   "source": [
    "print(data_missing)"
   ]
  },
  {
   "cell_type": "code",
   "execution_count": 41,
   "metadata": {},
   "outputs": [
    {
     "data": {
      "text/html": [
       "<div>\n",
       "<style scoped>\n",
       "    .dataframe tbody tr th:only-of-type {\n",
       "        vertical-align: middle;\n",
       "    }\n",
       "\n",
       "    .dataframe tbody tr th {\n",
       "        vertical-align: top;\n",
       "    }\n",
       "\n",
       "    .dataframe thead th {\n",
       "        text-align: right;\n",
       "    }\n",
       "</style>\n",
       "<table border=\"1\" class=\"dataframe\">\n",
       "  <thead>\n",
       "    <tr style=\"text-align: right;\">\n",
       "      <th></th>\n",
       "    </tr>\n",
       "  </thead>\n",
       "  <tbody>\n",
       "    <tr>\n",
       "      <th>0</th>\n",
       "    </tr>\n",
       "    <tr>\n",
       "      <th>1</th>\n",
       "    </tr>\n",
       "    <tr>\n",
       "      <th>2</th>\n",
       "    </tr>\n",
       "    <tr>\n",
       "      <th>3</th>\n",
       "    </tr>\n",
       "    <tr>\n",
       "      <th>4</th>\n",
       "    </tr>\n",
       "    <tr>\n",
       "      <th>...</th>\n",
       "    </tr>\n",
       "    <tr>\n",
       "      <th>1204</th>\n",
       "    </tr>\n",
       "    <tr>\n",
       "      <th>1205</th>\n",
       "    </tr>\n",
       "    <tr>\n",
       "      <th>1206</th>\n",
       "    </tr>\n",
       "    <tr>\n",
       "      <th>1207</th>\n",
       "    </tr>\n",
       "    <tr>\n",
       "      <th>1208</th>\n",
       "    </tr>\n",
       "  </tbody>\n",
       "</table>\n",
       "<p>1190 rows × 0 columns</p>\n",
       "</div>"
      ],
      "text/plain": [
       "Empty DataFrame\n",
       "Columns: []\n",
       "Index: [0, 1, 2, 3, 4, 5, 6, 7, 8, 9, 10, 11, 12, 13, 14, 15, 16, 17, 18, 19, 20, 21, 22, 23, 24, 25, 26, 27, 28, 29, 30, 31, 32, 33, 34, 35, 36, 37, 38, 39, 40, 41, 42, 43, 44, 45, 46, 47, 48, 49, 50, 51, 52, 53, 54, 55, 56, 57, 58, 59, 60, 61, 62, 63, 64, 65, 66, 67, 68, 69, 70, 71, 72, 73, 74, 75, 76, 77, 78, 79, 80, 81, 82, 83, 84, 85, 86, 87, 88, 89, 90, 91, 92, 93, 95, 97, 99, 100, 101, 102, ...]\n",
       "\n",
       "[1190 rows x 0 columns]"
      ]
     },
     "execution_count": 41,
     "metadata": {},
     "output_type": "execute_result"
    }
   ],
   "source": [
    "data1.drop(columns=data_drop_stage)"
   ]
  },
  {
   "cell_type": "code",
   "execution_count": 42,
   "metadata": {},
   "outputs": [
    {
     "name": "stdout",
     "output_type": "stream",
     "text": [
      "        Company_Brand  Founded HeadQuarter                 Sector  \\\n",
      "1              upGrad   2015.0      Mumbai                 EdTech   \n",
      "5       Urban Company   2014.0   New Delhi          Home services   \n",
      "6      Comofi Medtech   2018.0   Bangalore             HealthTech   \n",
      "8            Vitra.ai   2020.0   Bangalore           Tech Startup   \n",
      "9              Taikee   2010.0      Mumbai             E-commerce   \n",
      "...               ...      ...         ...                    ...   \n",
      "1172       Peppermint   2019.0        Pune  Industrial Automation   \n",
      "1182        Sugar.fit   2021.0   Bangalore                 Health   \n",
      "1192        Geniemode   2021.0    Gurugram                    B2B   \n",
      "1193  Sapio Analytics   2019.0      Mumbai      Computer Software   \n",
      "1202       Voxelgrids   2017.0   Bangalore               Deeptech   \n",
      "\n",
      "                                           What_it_does  \\\n",
      "1        UpGrad is an online higher education platform.   \n",
      "5     Urban Company (Formerly UrbanClap) is a home a...   \n",
      "6      Comofi Medtech is a healthcare robotics startup.   \n",
      "8     Vitra.ai is an AI-based video translation plat...   \n",
      "9     Taikee is the ISO-certified, B2B e-commerce pl...   \n",
      "...                                                 ...   \n",
      "1172  Intelligent Housekeeping Robots for public and...   \n",
      "1182  Innovative technology, compassionate diabetes ...   \n",
      "1192  Transforming global sourcing for retailers & s...   \n",
      "1193  Sapio helps government create policies driven ...   \n",
      "1202  Voxelgrids is an Magnetic Resonance Imaging te...   \n",
      "\n",
      "                                               Founders  \\\n",
      "1     Mayank Kumar, Phalgun Kompalli, Ravijot Chugh,...   \n",
      "5     Abhiraj Singh Bhal, Raghav Chandra, Varun Khaitan   \n",
      "6                                            Gururaj KB   \n",
      "8                                        Akash Nidhi PS   \n",
      "9                    Nidhi Ramachandran, Sachin Chhabra   \n",
      "...                                                 ...   \n",
      "1172                       Runal Dahiwade, Miraj C Vora   \n",
      "1182                 Shivtosh Kumar, Madan Somasundaram   \n",
      "1192                        Amit Sharma, Tanuj Gangwani   \n",
      "1193  Hardik Somani, Ashwin Srivastava, Shripal Jain...   \n",
      "1202                                  Arjun Arunachalam   \n",
      "\n",
      "                                        Investor       Amount Stage  \n",
      "1       Unilazer Ventures, IIFL Asset Management  120,000,000  None  \n",
      "5                                     Vy Capital  188,000,000  None  \n",
      "6                              CIIE.CO, KIIT-TBI      200,000  None  \n",
      "8                              Inflexor Ventures  Undisclosed  None  \n",
      "9                                           None    1,000,000  None  \n",
      "...                                          ...          ...   ...  \n",
      "1172     Venture Catalysts, Indian Angel Network       600000  None  \n",
      "1182  Cure.fit, Endiya Partners, Tanglin Venture     10000000  None  \n",
      "1192                          Info Edge Ventures      2000000  None  \n",
      "1193                 Rachit Poddar, Rajesh Gupta  Undisclosed  None  \n",
      "1202                                        Zoho      5000000  None  \n",
      "\n",
      "[428 rows x 9 columns]\n"
     ]
    }
   ],
   "source": [
    "print(data_missing)"
   ]
  },
  {
   "cell_type": "code",
   "execution_count": 43,
   "metadata": {},
   "outputs": [
    {
     "data": {
      "text/plain": [
       "<bound method DataFrame.info of        Company_Brand  Founded HeadQuarter                 Sector  \\\n",
       "0     Unbox Robotics   2019.0   Bangalore             AI startup   \n",
       "1             upGrad   2015.0      Mumbai                 EdTech   \n",
       "2        Lead School   2012.0      Mumbai                 EdTech   \n",
       "3            Bizongo   2015.0      Mumbai         B2B E-commerce   \n",
       "4           FypMoney   2021.0    Gurugram                FinTech   \n",
       "...              ...      ...         ...                    ...   \n",
       "1204        Gigforce   2019.0    Gurugram  Staffing & Recruiting   \n",
       "1205          Vahdam   2015.0   New Delhi       Food & Beverages   \n",
       "1206    Leap Finance   2019.0   Bangalore     Financial Services   \n",
       "1207    CollegeDekho   2015.0    Gurugram                 EdTech   \n",
       "1208          WeRize   2019.0   Bangalore     Financial Services   \n",
       "\n",
       "                                           What_it_does  \\\n",
       "0     Unbox Robotics builds on-demand AI-driven ware...   \n",
       "1        UpGrad is an online higher education platform.   \n",
       "2     LEAD School offers technology based school tra...   \n",
       "3     Bizongo is a business-to-business online marke...   \n",
       "4     FypMoney is Digital NEO Bank for Teenagers, em...   \n",
       "...                                                 ...   \n",
       "1204                  A gig/on-demand staffing company.   \n",
       "1205  VAHDAM is among the world’s first vertically i...   \n",
       "1206  International education loans for high potenti...   \n",
       "1207  Collegedekho.com is Student’s Partner, Friend ...   \n",
       "1208  India’s first socially distributed full stack ...   \n",
       "\n",
       "                                               Founders  \\\n",
       "0                           Pramod Ghadge, Shahid Memon   \n",
       "1     Mayank Kumar, Phalgun Kompalli, Ravijot Chugh,...   \n",
       "2                            Smita Deorah, Sumeet Mehta   \n",
       "3               Aniket Deb, Ankit Tomar, Sachin Agrawal   \n",
       "4                                         Kapil Banwari   \n",
       "...                                                 ...   \n",
       "1204                        Chirag Mittal, Anirudh Syal   \n",
       "1205                                         Bala Sarda   \n",
       "1206                         Arnav Kumar, Vaibhav Singh   \n",
       "1207                                       Ruchir Arora   \n",
       "1208                      Vishal Chopra, Himanshu Gupta   \n",
       "\n",
       "                                           Investor       Amount         Stage  \n",
       "0                       BEENEXT, Entrepreneur First    1,200,000  Pre-series A  \n",
       "1          Unilazer Ventures, IIFL Asset Management  120,000,000          None  \n",
       "2                  GSV Ventures, Westbridge Capital   30,000,000      Series D  \n",
       "3                            CDC Group, IDG Capital   51,000,000      Series C  \n",
       "4     Liberatha Kallat, Mukesh Yadav, Dinesh Nagpal    2,000,000          Seed  \n",
       "...                                             ...          ...           ...  \n",
       "1204                                Endiya Partners      3000000  Pre-series A  \n",
       "1205                                       IIFL AMC     20000000      Series D  \n",
       "1206                                   Owl Ventures     55000000      Series C  \n",
       "1207               Winter Capital, ETS, Man Capital     26000000      Series B  \n",
       "1208                 3one4 Capital, Kalaari Capital      8000000      Series A  \n",
       "\n",
       "[1190 rows x 9 columns]>"
      ]
     },
     "execution_count": 43,
     "metadata": {},
     "output_type": "execute_result"
    }
   ],
   "source": [
    "data1.info"
   ]
  },
  {
   "cell_type": "code",
   "execution_count": 44,
   "metadata": {},
   "outputs": [
    {
     "data": {
      "text/plain": [
       "Company_Brand      0\n",
       "Founded            1\n",
       "HeadQuarter        1\n",
       "Sector             0\n",
       "What_it_does       0\n",
       "Founders           4\n",
       "Investor          61\n",
       "Amount             0\n",
       "Stage            421\n",
       "dtype: int64"
      ]
     },
     "execution_count": 44,
     "metadata": {},
     "output_type": "execute_result"
    }
   ],
   "source": [
    "data1.isna().sum() #missing values"
   ]
  },
  {
   "cell_type": "code",
   "execution_count": 46,
   "metadata": {},
   "outputs": [],
   "source": [
    "data1_dropped_rows = data1.dropna()  #drop rows with missing values"
   ]
  },
  {
   "cell_type": "code",
   "execution_count": 47,
   "metadata": {},
   "outputs": [
    {
     "data": {
      "text/plain": [
       "Company_Brand      0\n",
       "Founded            1\n",
       "HeadQuarter        1\n",
       "Sector             0\n",
       "What_it_does       0\n",
       "Founders           4\n",
       "Investor          61\n",
       "Amount             0\n",
       "Stage            421\n",
       "dtype: int64"
      ]
     },
     "execution_count": 47,
     "metadata": {},
     "output_type": "execute_result"
    }
   ],
   "source": [
    "data1.isna().sum() #missing values"
   ]
  },
  {
   "cell_type": "code",
   "execution_count": 48,
   "metadata": {},
   "outputs": [],
   "source": [
    "data1_dropped_cols = data1.dropna(axis=1)"
   ]
  },
  {
   "cell_type": "code",
   "execution_count": 49,
   "metadata": {},
   "outputs": [
    {
     "data": {
      "text/plain": [
       "Company_Brand      0\n",
       "Founded            1\n",
       "HeadQuarter        1\n",
       "Sector             0\n",
       "What_it_does       0\n",
       "Founders           4\n",
       "Investor          61\n",
       "Amount             0\n",
       "Stage            421\n",
       "dtype: int64"
      ]
     },
     "execution_count": 49,
     "metadata": {},
     "output_type": "execute_result"
    }
   ],
   "source": [
    "data1.isna().sum() #missing values"
   ]
  },
  {
   "cell_type": "code",
   "execution_count": 51,
   "metadata": {},
   "outputs": [
    {
     "name": "stdout",
     "output_type": "stream",
     "text": [
      "['BEENEXT, Entrepreneur First' 'Unilazer Ventures, IIFL Asset Management'\n",
      " 'GSV Ventures, Westbridge Capital' ... 'Owl Ventures'\n",
      " 'Winter Capital, ETS, Man Capital' '3one4 Capital, Kalaari Capital']\n"
     ]
    }
   ],
   "source": [
    "array_Investor = data1['Investor'].values\n",
    "print(array_Investor)"
   ]
  },
  {
   "cell_type": "code",
   "execution_count": 52,
   "metadata": {},
   "outputs": [
    {
     "name": "stdout",
     "output_type": "stream",
     "text": [
      "['Pre-series A' None 'Series D' ... 'Series C' 'Series B' 'Series A']\n"
     ]
    }
   ],
   "source": [
    "array_Stage = data1['Stage'].values\n",
    "print(array_Stage)"
   ]
  },
  {
   "cell_type": "code",
   "execution_count": 53,
   "metadata": {},
   "outputs": [
    {
     "name": "stdout",
     "output_type": "stream",
     "text": [
      "['Pramod Ghadge, Shahid Memon'\n",
      " 'Mayank Kumar, Phalgun Kompalli, Ravijot Chugh, Ronnie Screwvala'\n",
      " 'Smita Deorah, Sumeet Mehta' ... 'Arnav Kumar, Vaibhav Singh'\n",
      " 'Ruchir Arora' 'Vishal Chopra, Himanshu Gupta']\n"
     ]
    }
   ],
   "source": [
    "array_Founders = data1['Founders'].values\n",
    "print(array_Founders)"
   ]
  },
  {
   "cell_type": "code",
   "execution_count": 55,
   "metadata": {},
   "outputs": [
    {
     "data": {
      "text/html": [
       "<div>\n",
       "<style scoped>\n",
       "    .dataframe tbody tr th:only-of-type {\n",
       "        vertical-align: middle;\n",
       "    }\n",
       "\n",
       "    .dataframe tbody tr th {\n",
       "        vertical-align: top;\n",
       "    }\n",
       "\n",
       "    .dataframe thead th {\n",
       "        text-align: right;\n",
       "    }\n",
       "</style>\n",
       "<table border=\"1\" class=\"dataframe\">\n",
       "  <thead>\n",
       "    <tr style=\"text-align: right;\">\n",
       "      <th></th>\n",
       "      <th>Founded</th>\n",
       "    </tr>\n",
       "  </thead>\n",
       "  <tbody>\n",
       "    <tr>\n",
       "      <th>count</th>\n",
       "      <td>1189.000000</td>\n",
       "    </tr>\n",
       "    <tr>\n",
       "      <th>mean</th>\n",
       "      <td>2016.634146</td>\n",
       "    </tr>\n",
       "    <tr>\n",
       "      <th>std</th>\n",
       "      <td>4.522098</td>\n",
       "    </tr>\n",
       "    <tr>\n",
       "      <th>min</th>\n",
       "      <td>1963.000000</td>\n",
       "    </tr>\n",
       "    <tr>\n",
       "      <th>25%</th>\n",
       "      <td>2015.000000</td>\n",
       "    </tr>\n",
       "    <tr>\n",
       "      <th>50%</th>\n",
       "      <td>2018.000000</td>\n",
       "    </tr>\n",
       "    <tr>\n",
       "      <th>75%</th>\n",
       "      <td>2020.000000</td>\n",
       "    </tr>\n",
       "    <tr>\n",
       "      <th>max</th>\n",
       "      <td>2021.000000</td>\n",
       "    </tr>\n",
       "  </tbody>\n",
       "</table>\n",
       "</div>"
      ],
      "text/plain": [
       "           Founded\n",
       "count  1189.000000\n",
       "mean   2016.634146\n",
       "std       4.522098\n",
       "min    1963.000000\n",
       "25%    2015.000000\n",
       "50%    2018.000000\n",
       "75%    2020.000000\n",
       "max    2021.000000"
      ]
     },
     "execution_count": 55,
     "metadata": {},
     "output_type": "execute_result"
    }
   ],
   "source": [
    "data1.describe()"
   ]
  },
  {
   "cell_type": "code",
   "execution_count": 57,
   "metadata": {},
   "outputs": [
    {
     "data": {
      "text/plain": [
       "0       2019.0\n",
       "1       2015.0\n",
       "2       2012.0\n",
       "3       2015.0\n",
       "4       2021.0\n",
       "         ...  \n",
       "1204    2019.0\n",
       "1205    2015.0\n",
       "1206    2019.0\n",
       "1207    2015.0\n",
       "1208    2019.0\n",
       "Name: Founded, Length: 1190, dtype: float64"
      ]
     },
     "execution_count": 57,
     "metadata": {},
     "output_type": "execute_result"
    }
   ],
   "source": [
    "data1['Founded']"
   ]
  },
  {
   "cell_type": "code",
   "execution_count": 58,
   "metadata": {},
   "outputs": [
    {
     "data": {
      "text/plain": [
       "Company_Brand     object\n",
       "Founded          float64\n",
       "HeadQuarter       object\n",
       "Sector            object\n",
       "What_it_does      object\n",
       "Founders          object\n",
       "Investor          object\n",
       "Amount            object\n",
       "Stage             object\n",
       "dtype: object"
      ]
     },
     "execution_count": 58,
     "metadata": {},
     "output_type": "execute_result"
    }
   ],
   "source": [
    "data1.dtypes"
   ]
  },
  {
   "cell_type": "code",
   "execution_count": 60,
   "metadata": {},
   "outputs": [
    {
     "data": {
      "text/plain": [
       "Company_Brand    False\n",
       "Founded           True\n",
       "HeadQuarter       True\n",
       "Sector           False\n",
       "What_it_does     False\n",
       "Founders          True\n",
       "Investor          True\n",
       "Amount           False\n",
       "Stage             True\n",
       "dtype: bool"
      ]
     },
     "execution_count": 60,
     "metadata": {},
     "output_type": "execute_result"
    }
   ],
   "source": [
    "data1.isna().any()"
   ]
  },
  {
   "cell_type": "code",
   "execution_count": null,
   "metadata": {},
   "outputs": [],
   "source": []
  }
 ],
 "metadata": {
  "kernelspec": {
   "display_name": "Python 3",
   "language": "python",
   "name": "python3"
  },
  "language_info": {
   "codemirror_mode": {
    "name": "ipython",
    "version": 3
   },
   "file_extension": ".py",
   "mimetype": "text/x-python",
   "name": "python",
   "nbconvert_exporter": "python",
   "pygments_lexer": "ipython3",
   "version": "3.11.9"
  }
 },
 "nbformat": 4,
 "nbformat_minor": 2
}
